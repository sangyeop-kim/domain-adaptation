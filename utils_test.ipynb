{
 "cells": [
  {
   "cell_type": "code",
   "execution_count": 2,
   "metadata": {},
   "outputs": [],
   "source": [
    "from training import *\n",
    "import pickle\n",
    "import torch"
   ]
  },
  {
   "cell_type": "code",
   "execution_count": 3,
   "metadata": {},
   "outputs": [],
   "source": [
    "torch.cuda.set_device(device=0)"
   ]
  },
  {
   "cell_type": "code",
   "execution_count": 4,
   "metadata": {},
   "outputs": [],
   "source": [
    "with open('data.pkl', 'rb') as f:\n",
    "    data = pickle.load(f)"
   ]
  },
  {
   "cell_type": "code",
   "execution_count": 5,
   "metadata": {},
   "outputs": [],
   "source": [
    "X1 = data['X1']\n",
    "X2 = data['X2']\n",
    "y1 = data['y1']\n",
    "y2 = data['y2']"
   ]
  },
  {
   "cell_type": "code",
   "execution_count": 6,
   "metadata": {},
   "outputs": [],
   "source": [
    "kfold = 3\n",
    "random_state = 0\n",
    "batch_size = 64\n",
    "encoding_kernel = 10\n",
    "attn_kernel = 10\n",
    "n_epoch = 100 #100 \n",
    "# verbose = True\n",
    "n_cv = 10 #20\n",
    "learning_rate = 0.0001\n",
    "step_size = 30\n",
    "gamma = 0.8\n",
    "loss_check = 10\n",
    "num_workers = 16"
   ]
  },
  {
   "cell_type": "code",
   "execution_count": null,
   "metadata": {
    "scrolled": true
   },
   "outputs": [
    {
     "name": "stdout",
     "output_type": "stream",
     "text": [
      "\n",
      "1\n",
      "\n",
      "kfold 1\n"
     ]
    }
   ],
   "source": [
    "multi_model, multi_metric1, multi_metric2 = multi_training(X1, y1, X2, y2, n_cv, kfold, \n",
    "                                                           random_state, batch_size, num_workers, \n",
    "                                                           encoding_kernel, attn_kernel, \n",
    "                                                           learning_rate, step_size, gamma, \n",
    "                                                           n_epoch, loss_check)"
   ]
  },
  {
   "cell_type": "code",
   "execution_count": null,
   "metadata": {
    "scrolled": true
   },
   "outputs": [],
   "source": [
    "model1, metric1 = single_training(X1, y1, n_cv, kfold, random_state, batch_size, num_workers, \n",
    "                                encoding_kernel, attn_kernel, learning_rate,step_size, gamma, \n",
    "                                n_epoch, loss_check)"
   ]
  },
  {
   "cell_type": "code",
   "execution_count": null,
   "metadata": {},
   "outputs": [],
   "source": [
    "model2, metric2 = single_training(X2, y2, n_cv, kfold, random_state, batch_size, num_workers, \n",
    "                                encoding_kernel, attn_kernel, learning_rate,step_size, gamma, \n",
    "                                n_epoch, loss_check)"
   ]
  }
 ],
 "metadata": {
  "kernelspec": {
   "display_name": "Python [conda env:pytorch] *",
   "language": "python",
   "name": "conda-env-pytorch-py"
  },
  "language_info": {
   "codemirror_mode": {
    "name": "ipython",
    "version": 3
   },
   "file_extension": ".py",
   "mimetype": "text/x-python",
   "name": "python",
   "nbconvert_exporter": "python",
   "pygments_lexer": "ipython3",
   "version": "3.6.9"
  }
 },
 "nbformat": 4,
 "nbformat_minor": 2
}
